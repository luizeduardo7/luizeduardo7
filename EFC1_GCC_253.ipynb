{
  "nbformat": 4,
  "nbformat_minor": 0,
  "metadata": {
    "colab": {
      "name": "EFC1_GCC_253.ipynb",
      "provenance": [],
      "collapsed_sections": [],
      "include_colab_link": true
    },
    "kernelspec": {
      "name": "python3",
      "display_name": "Python 3"
    },
    "language_info": {
      "name": "python"
    }
  },
  "cells": [
    {
      "cell_type": "markdown",
      "metadata": {
        "id": "view-in-github",
        "colab_type": "text"
      },
      "source": [
        "<a href=\"https://colab.research.google.com/github/luizeduardo7/luizeduardo7/blob/main/EFC1_GCC_253.ipynb\" target=\"_parent\"><img src=\"https://colab.research.google.com/assets/colab-badge.svg\" alt=\"Open In Colab\"/></a>"
      ]
    },
    {
      "cell_type": "markdown",
      "source": [
        "# EFC1 GCC253 - Complexidade e Projeto de Algoritmos\n",
        "\n",
        "\n",
        "> **Prof.: Douglas H. S. Abreu**\n",
        "\n",
        "\n",
        "**Aluno**:\n",
        "\n",
        "**Matricula**\n",
        "\n",
        "**Turma**: 10A, 14A\n",
        "\n",
        "Link do repositório GitHub: \n",
        "\n",
        "● O trabalho deve ser feito em grupos de no máximo 2 componentes (todos devem enviar a atividade no Campus Virtual)\n",
        "\n",
        "● Trabalhos entregues após a data limite não serão aceitos\n",
        "\n",
        "● Data limite de entrega: 26 de Julho de 2022 : 23h55m\n",
        "\n",
        "● Enviar o trabalho para o campus virtual, do seguinte modo: link do repositório GitHub e do Colab para acesso ao Notebook. A Documentação deve estar no readme\n",
        "\n",
        "● O trabalho deve ser desenvolvido no modelo Notebook utilizando a linguagem Python"
      ],
      "metadata": {
        "id": "XAdlKnDBj5uB"
      }
    },
    {
      "cell_type": "markdown",
      "source": [
        "# Importações e Variáveis globais"
      ],
      "metadata": {
        "id": "J3d6JlRUxREN"
      }
    },
    {
      "cell_type": "code",
      "source": [
        "import numpy as np\n",
        "import time\n",
        "import matplotlib.pyplot as plt\n",
        "import math\n",
        "\n",
        "global tempo_exec_merge\n",
        "tempo_exec_merge = 0\n",
        "\n",
        "global tempo_exec_heap\n",
        "tempo_exec_heap = 0\n",
        "\n",
        "global tempo_exec_quick\n",
        "tempo_exec_quick = 0"
      ],
      "metadata": {
        "id": "Ur1DVGQAxac4"
      },
      "execution_count": 248,
      "outputs": []
    },
    {
      "cell_type": "code",
      "source": [
        "def gera_arr(n_elem):\n",
        "  a = np.random.randint(5, 1000, n_elem)\n",
        "  return a"
      ],
      "metadata": {
        "id": "90YE23BgulUs"
      },
      "execution_count": 137,
      "outputs": []
    },
    {
      "cell_type": "markdown",
      "source": [
        "# Funções de Ordenação\n",
        "\n",
        "> Utilize este espaço para definir as funções de ordenação vista em sala de aula\n",
        "\n"
      ],
      "metadata": {
        "id": "kPNpzNYwkKAO"
      }
    },
    {
      "cell_type": "code",
      "source": [
        "def casoInsert():\n",
        "  melhor = []\n",
        "  pior = []\n",
        "  medio = []\n",
        "  elem = np.arange(0, 200) \n",
        "    \n",
        "  for i in np.arange(5, 1001, 5):\n",
        "    arr = gera_arr(i)\n",
        "    \n",
        "    arr, tempo = insertionSort(arr)\n",
        "    medio.append(tempo)\n",
        "\n",
        "    arr, tempo = insertionSort(arr)\n",
        "    melhor.append(tempo)\n",
        "\n",
        "    arr = arr[::-1]\n",
        "    arr, tempo = insertionSort(arr)\n",
        "    pior.append(tempo)\n",
        "\n",
        "  plt.plot(elem, melhor, label='melhor caso')  # Plot some data on the (implicit) axes.\n",
        "  plt.plot(elem, pior, label='pior caso')  # etc.\n",
        "  plt.plot(elem, medio, label='caso médio')  # etc.\n",
        "  plt.ylabel('Quatidade de elementos')\n",
        "  plt.ylabel('Tempo de execução em s')\n",
        "  plt.title(\"Insertion Sort\")\n",
        "  plt.legend()"
      ],
      "metadata": {
        "id": "WgWvm1O4UOYj"
      },
      "execution_count": 143,
      "outputs": []
    },
    {
      "cell_type": "markdown",
      "source": [
        "##  Insertion Sort\n"
      ],
      "metadata": {
        "id": "nEw1UEsmoKMg"
      }
    },
    {
      "cell_type": "code",
      "source": [
        "def insertionSort(arr):\n",
        "  ini = time.time()\n",
        "  for j in range(1, len(arr)):\n",
        "    chave = arr[j]\n",
        "    i = j-1\n",
        "    while i >= 0 and arr[i] > chave:\n",
        "      arr[i+1] = arr[i]\n",
        "      i -= 1\n",
        "    arr[i+1] = chave\n",
        "  fim = time.time()\n",
        "  tempo_exec = fim - ini\n",
        "  \n",
        "  return arr, tempo_exec"
      ],
      "metadata": {
        "id": "kbOrhdB-j_px"
      },
      "execution_count": 139,
      "outputs": []
    },
    {
      "cell_type": "code",
      "source": [
        "casoInsert()"
      ],
      "metadata": {
        "colab": {
          "base_uri": "https://localhost:8080/",
          "height": 281
        },
        "id": "JTRtvgjIMciv",
        "outputId": "850c002e-0d87-41e0-b42c-37f783a800d0"
      },
      "execution_count": 144,
      "outputs": [
        {
          "output_type": "display_data",
          "data": {
            "text/plain": [
              "<Figure size 432x288 with 1 Axes>"
            ],
            "image/png": "[encoded data removed]"
          },
          "metadata": {
            "needs_background": "light"
          }
        }
      ]
    },
    {
      "cell_type": "markdown",
      "source": [
        "##  Merge Sort\n"
      ],
      "metadata": {
        "id": "9a-wJwU-wtmQ"
      }
    },
    {
      "cell_type": "code",
      "source": [
        "def casoMerge():\n",
        "  melhor = []\n",
        "  pior = []\n",
        "  elem = np.arange(0, 200) \n",
        "    \n",
        "  for i in np.arange(5, 1001, 5):\n",
        "    arr = gera_arr(i)\n",
        "\n",
        "    arr, tempo = mergeSort(arr, 0, len(arr)-1)\n",
        "    melhor.append(tempo)\n",
        "\n",
        "    arr2 = [1]\n",
        "    arr2, tempo = mergeSort(arr, 0, len(arr2)-1)\n",
        "    pior.append(tempo)\n",
        "\n",
        "  plt.plot(elem, melhor, label='melhor caso')  # Plot some data on the (implicit) axes.\n",
        "  plt.plot(elem, pior, label='pior caso')  # etc.\n",
        "  plt.ylabel('Quatidade de elementos')\n",
        "  plt.ylabel('Tempo de execução em s')\n",
        "  plt.title(\"Merge Sort\")\n",
        "  plt.legend()"
      ],
      "metadata": {
        "id": "pUmbZairZFbq"
      },
      "execution_count": 180,
      "outputs": []
    },
    {
      "cell_type": "code",
      "source": [
        "def merge(arr, p, q, r):\n",
        "  n1 = q - p + 1\n",
        "  n2 = r - q\n",
        "  L = []\n",
        "  R = []\n",
        "  for i in range(0, n1):\n",
        "    L.append(arr[p+i])\n",
        "  for j in range(0,  n2):\n",
        "    R.append(arr[q+j+1])\n",
        "\n",
        "  i = 0\n",
        "  j = 0\n",
        "  k = p\n",
        "  while i < n1 and j < n2:\n",
        "      if L[i] <= R[j]:\n",
        "        arr[k] = L[i]\n",
        "        i += 1\n",
        "      else:\n",
        "        arr[k] = R[j]\n",
        "        j += 1\n",
        "      k += 1\n",
        "  while i < n1:\n",
        "    arr[k] = L[i]\n",
        "    i += 1\n",
        "    k += 1\n",
        "  while j < n2:\n",
        "    arr[k] = R[j]\n",
        "    j += 1\n",
        "    k += 1"
      ],
      "metadata": {
        "id": "kAYLZyJpfzGF"
      },
      "execution_count": 158,
      "outputs": []
    },
    {
      "cell_type": "code",
      "source": [
        "def mergeSort(arr, p, r):\n",
        "  ini = time.time()\n",
        "  if p < r:\n",
        "    q = (p+r)//2\n",
        "\n",
        "    mergeSort(arr, p, q)\n",
        "    mergeSort(arr, q+1, r)\n",
        "    merge(arr, p, q, r)\n",
        "  fim = time.time()\n",
        "  global tempo_exec_merge\n",
        "  tempo_exec_merge += fim - ini\n",
        "  return arr, tempo_exec_merge\n"
      ],
      "metadata": {
        "id": "8cgIJ_4EwbPN"
      },
      "execution_count": 173,
      "outputs": []
    },
    {
      "cell_type": "code",
      "source": [
        "casoMerge()"
      ],
      "metadata": {
        "colab": {
          "base_uri": "https://localhost:8080/",
          "height": 281
        },
        "id": "JN6woebNZsty",
        "outputId": "c2999e00-9263-48bd-f0c1-9951949708ef"
      },
      "execution_count": 181,
      "outputs": [
        {
          "output_type": "display_data",
          "data": {
            "text/plain": [
              "<Figure size 432x288 with 1 Axes>"
            ],
            "image/png": "[encoded data removed]"
          },
          "metadata": {
            "needs_background": "light"
          }
        }
      ]
    },
    {
      "cell_type": "markdown",
      "source": [
        "##  Selection Sort\n"
      ],
      "metadata": {
        "id": "8dWpeYUvw-wU"
      }
    },
    {
      "cell_type": "code",
      "source": [
        "def casoSelection():\n",
        "  melhor = []\n",
        "  pior = []\n",
        "  medio = []\n",
        "  elem = np.arange(0, 200) \n",
        "    \n",
        "  for i in np.arange(5, 1001, 5):\n",
        "    arr = gera_arr(i)\n",
        "\n",
        "    tempo = selectionSort(arr, len(arr))\n",
        "    medio.append(tempo)\n",
        "\n",
        "    tempo = selectionSort(arr, len(arr))\n",
        "    pior.append(tempo)\n",
        "\n",
        "    arr2 = [1]\n",
        "    tempo = selectionSort(arr2, len(arr2))\n",
        "    melhor.append(tempo)\n",
        "\n",
        "  plt.plot(elem, melhor, label='melhor caso')  # Plot some data on the (implicit) axes.\n",
        "  plt.plot(elem, pior, label='pior caso')  # etc.\n",
        "  plt.plot(elem, medio, label='caso médio')  # etc.\n",
        "  plt.ylabel('Quatidade de elementos')\n",
        "  plt.ylabel('Tempo de execução em s')\n",
        "  plt.title(\"Selection Sort\")\n",
        "  plt.legend()"
      ],
      "metadata": {
        "id": "qSUUPmBNcVsT"
      },
      "execution_count": 206,
      "outputs": []
    },
    {
      "cell_type": "code",
      "source": [
        "def selectionSort(arr, tam):\n",
        "  ini = time.time()\n",
        "  for step in range(tam):\n",
        "    min_idx = step\n",
        "\n",
        "  for i in range(step + 1, tam):\n",
        "    if arr[i] < arr[min_idx]:\n",
        "      min_idx = i\n",
        "  arr[step], arr[min_idx] = arr[min_idx], arr[step]\n",
        "  fim = time.time()\n",
        "  tempo_exec = fim - ini\n",
        "  return tempo_exec"
      ],
      "metadata": {
        "id": "vNgUDShawygu"
      },
      "execution_count": 204,
      "outputs": []
    },
    {
      "cell_type": "code",
      "source": [
        "casoSelection()"
      ],
      "metadata": {
        "colab": {
          "base_uri": "https://localhost:8080/",
          "height": 281
        },
        "id": "hKY3VbZwc2EX",
        "outputId": "1ea2cd71-6906-4522-c0f7-fcac58253e36"
      },
      "execution_count": 207,
      "outputs": [
        {
          "output_type": "display_data",
          "data": {
            "text/plain": [
              "<Figure size 432x288 with 1 Axes>"
            ],
            "image/png": "[encoded data removed]"
          },
          "metadata": {
            "needs_background": "light"
          }
        }
      ]
    },
    {
      "cell_type": "markdown",
      "source": [
        "##  Bubble Sort\n"
      ],
      "metadata": {
        "id": "zNI1kX0yyDrs"
      }
    },
    {
      "cell_type": "code",
      "source": [
        "def casoBubble():\n",
        "  melhor = []\n",
        "  pior = []\n",
        "  medio = []\n",
        "  elem = np.arange(0, 200) \n",
        "    \n",
        "  for i in np.arange(5, 1001, 5):\n",
        "    arr = gera_arr(i)\n",
        "    \n",
        "    tempo = bubbleSort(arr)\n",
        "    medio.append(tempo)\n",
        "\n",
        "    arr = np.sort(arr)\n",
        "    tempo = bubbleSort(arr)\n",
        "    melhor.append(tempo)\n",
        "\n",
        "    arr = arr[::-1]\n",
        "    tempo = bubbleSort(arr)\n",
        "    pior.append(tempo)\n",
        "\n",
        "  plt.plot(elem, melhor, label='melhor caso')  # Plot some data on the (implicit) axes.\n",
        "  plt.plot(elem, pior, label='pior caso')  # etc.\n",
        "  plt.plot(elem, medio, label='caso médio')  # etc.\n",
        "  plt.ylabel('Quatidade de elementos')\n",
        "  plt.ylabel('Tempo de execução em s')\n",
        "  plt.title(\"Bubble Sort\")\n",
        "  plt.legend()"
      ],
      "metadata": {
        "id": "DQRaCLnOetPI"
      },
      "execution_count": 245,
      "outputs": []
    },
    {
      "cell_type": "code",
      "source": [
        "def bubbleSort(arr):\n",
        "  ini = time.time()\n",
        "  n = len(arr)\n",
        "  swapped = False\n",
        "  for i in range(n-1):\n",
        "    for j in range(0, n-i-1):\n",
        "      if arr[j] > arr[j + 1]:\n",
        "        swapped = True\n",
        "        arr[j], arr[j + 1] = arr[j + 1], arr[j]\n",
        "    if not swapped:\n",
        "      return\n",
        "  fim = time.time()\n",
        "  tempo_exec = fim - ini\n",
        "  return tempo_exec"
      ],
      "metadata": {
        "id": "6X_zk1yWxMQS"
      },
      "execution_count": 246,
      "outputs": []
    },
    {
      "cell_type": "code",
      "source": [
        "casoBubble()"
      ],
      "metadata": {
        "colab": {
          "base_uri": "https://localhost:8080/",
          "height": 281
        },
        "id": "IxGQEbUVfSs0",
        "outputId": "ebc4bedf-399a-40e5-c7f8-8bf4f08bfda2"
      },
      "execution_count": 247,
      "outputs": [
        {
          "output_type": "display_data",
          "data": {
            "text/plain": [
              "<Figure size 432x288 with 1 Axes>"
            ],
            "image/png": "[encoded data removed]"
          },
          "metadata": {
            "needs_background": "light"
          }
        }
      ]
    },
    {
      "cell_type": "markdown",
      "source": [
        "## Heap Sort"
      ],
      "metadata": {
        "id": "vk4vOTkKyLB-"
      }
    },
    {
      "cell_type": "code",
      "source": [
        "def casoHeap():\n",
        "  melhor = []\n",
        "  pior = []\n",
        "  medio = []\n",
        "  elem = np.arange(0, 200) \n",
        "    \n",
        "  for i in np.arange(5, 1001, 5):\n",
        "    arr = gera_arr(i)\n",
        "\n",
        "    tempo = heapSort(arr)\n",
        "    medio.append(tempo)\n",
        "\n",
        "    tempo = heapSort(arr)\n",
        "    pior.append(tempo)\n",
        "\n",
        "    arr2 = [1]\n",
        "    tempo = heapSort(arr2)\n",
        "    melhor.append(tempo)\n",
        "\n",
        "  plt.plot(elem, melhor, label='melhor caso')  # Plot some data on the (implicit) axes.\n",
        "  plt.plot(elem, pior, label='pior caso')  # etc.\n",
        "  plt.plot(elem, medio, label='caso médio')  # etc.\n",
        "  plt.ylabel('Quatidade de elementos')\n",
        "  plt.ylabel('Tempo de execução em s')\n",
        "  plt.title(\"Heap Sort\")\n",
        "  plt.legend()"
      ],
      "metadata": {
        "id": "nSpAfFlFix4_"
      },
      "execution_count": 261,
      "outputs": []
    },
    {
      "cell_type": "code",
      "source": [
        "def left(i):\n",
        "  return 2*i + 1\n",
        "\n",
        "def right(i):\n",
        "  return (2*i) + 2"
      ],
      "metadata": {
        "id": "2rnsZ6kJpOg3"
      },
      "execution_count": 249,
      "outputs": []
    },
    {
      "cell_type": "code",
      "source": [
        "def maxHeaPify(arr, n, i):\n",
        "  l = left(i)\n",
        "  r = right(i)\n",
        "  maior = i\n",
        "\n",
        "  if l < n and arr[l] > arr[i]:\n",
        "    maior = l\n",
        "  \n",
        "  if r < n and arr[r] > arr[maior]:\n",
        "    maior = r\n",
        "\n",
        "  if maior != i:\n",
        "    arr[i], arr[maior] = arr[maior], arr[i]\n",
        "    maxHeaPify(arr, n, maior)"
      ],
      "metadata": {
        "id": "Z2gJlFj8pQXv"
      },
      "execution_count": 250,
      "outputs": []
    },
    {
      "cell_type": "code",
      "source": [
        "def heapSort(arr):\n",
        "  ini = time.time()\n",
        "  n = len(arr)\n",
        "\n",
        "  for i in range(n // 2 - 1, -1, -1): \n",
        "    maxHeaPify(arr, n, i) \n",
        "    \n",
        "  for i in range(n-1, 0, -1): \n",
        "    arr[i], arr[0] = arr[0], arr[i]\n",
        "    maxHeaPify(arr, i, 0)\n",
        "  fim = time.time()\n",
        "  global tempo_exec_heap\n",
        "  tempo_exec_heap += fim - ini\n",
        "  return tempo_exec_heap"
      ],
      "metadata": {
        "id": "39a7xXzLyH9g"
      },
      "execution_count": 262,
      "outputs": []
    },
    {
      "cell_type": "code",
      "source": [
        "casoHeap()"
      ],
      "metadata": {
        "colab": {
          "base_uri": "https://localhost:8080/",
          "height": 281
        },
        "id": "AHIBXlKdjeQx",
        "outputId": "7e6212d0-7bc6-4df5-8315-388313f43330"
      },
      "execution_count": 263,
      "outputs": [
        {
          "output_type": "display_data",
          "data": {
            "text/plain": [
              "<Figure size 432x288 with 1 Axes>"
            ],
            "image/png": "[encoded data removed]"
          },
          "metadata": {
            "needs_background": "light"
          }
        }
      ]
    },
    {
      "cell_type": "markdown",
      "source": [
        "## Quick Sort\n",
        "\n",
        "> pivo = *A[A-comprimento]*"
      ],
      "metadata": {
        "id": "fFiGho5CyU3t"
      }
    },
    {
      "cell_type": "code",
      "source": [
        "def casoQuick():\n",
        "  melhor = []\n",
        "  pior = []\n",
        "  elem = np.arange(0, 200) \n",
        "    \n",
        "  for i in np.arange(5, 1001, 5):\n",
        "    arr = gera_arr(i)\n",
        "\n",
        "    arr, tempo = quicksort(0, len(arr)-1, arr)\n",
        "    melhor.append(tempo)\n",
        "\n",
        "    arr2 = [1]\n",
        "    arr2, tempo = quicksort(0, len(arr)-1, arr)\n",
        "    pior.append(tempo)\n",
        "\n",
        "  plt.plot(elem, melhor, label='melhor caso')  # Plot some data on the (implicit) axes.\n",
        "  plt.plot(elem, pior, label='pior caso')  # etc.\n",
        "  plt.ylabel('Quatidade de elementos')\n",
        "  plt.ylabel('Tempo de execução em s')\n",
        "  plt.title(\"Quick Sort\")\n",
        "  plt.legend()"
      ],
      "metadata": {
        "id": "aqi3m1Uaj2Zk"
      },
      "execution_count": 277,
      "outputs": []
    },
    {
      "cell_type": "code",
      "source": [
        "def partition(l, r, arr):\n",
        "  pivo, ptr = arr[r], l\n",
        "  for i in range(l, r):\n",
        "    if arr[i] <= pivo:\n",
        "      arr[i], arr[ptr] = arr[ptr], arr[i]\n",
        "      ptr += 1\n",
        "  arr[ptr], arr[r] = arr[r], arr[ptr]\n",
        "  return ptr"
      ],
      "metadata": {
        "id": "AHGNz6NIppT5"
      },
      "execution_count": 274,
      "outputs": []
    },
    {
      "cell_type": "code",
      "source": [
        "def quicksort(l, r, arr):\n",
        "  ini = time.time()\n",
        "  if len(arr) == 1:\n",
        "    return arr\n",
        "  if l < r:\n",
        "    pi = partition(l, r, arr)\n",
        "    quicksort(l, pi-1, arr)  \n",
        "    quicksort(pi+1, r, arr)\n",
        "  fim = time.time()\n",
        "  global tempo_exec_quick\n",
        "  tempo_exec_quick += fim - ini\n",
        "  return arr, tempo_exec_quick"
      ],
      "metadata": {
        "id": "1Ie_N5CRyKY7"
      },
      "execution_count": 275,
      "outputs": []
    },
    {
      "cell_type": "code",
      "source": [
        "casoQuick()"
      ],
      "metadata": {
        "colab": {
          "base_uri": "https://localhost:8080/",
          "height": 312
        },
        "id": "E9RJakjBkfPF",
        "outputId": "49c9e2b4-e70a-4b1d-a52d-d8d617361ea9"
      },
      "execution_count": 279,
      "outputs": [
        {
          "output_type": "error",
          "ename": "IndexError",
          "evalue": "ignored",
          "traceback": [
            "\u001b[0;31m---------------------------------------------------------------------------\u001b[0m",
            "\u001b[0;31mIndexError\u001b[0m                                Traceback (most recent call last)",
            "\u001b[0;32m<ipython-input-279-458401fb7a4a>\u001b[0m in \u001b[0;36m<module>\u001b[0;34m()\u001b[0m\n\u001b[0;32m----> 1\u001b[0;31m \u001b[0mcasoQuick\u001b[0m\u001b[0;34m(\u001b[0m\u001b[0;34m)\u001b[0m\u001b[0;34m\u001b[0m\u001b[0;34m\u001b[0m\u001b[0m\n\u001b[0m",
            "\u001b[0;32m<ipython-input-277-accf053502a5>\u001b[0m in \u001b[0;36mcasoQuick\u001b[0;34m()\u001b[0m\n\u001b[1;32m      7\u001b[0m     \u001b[0marr\u001b[0m \u001b[0;34m=\u001b[0m \u001b[0mgera_arr\u001b[0m\u001b[0;34m(\u001b[0m\u001b[0mi\u001b[0m\u001b[0;34m)\u001b[0m\u001b[0;34m\u001b[0m\u001b[0;34m\u001b[0m\u001b[0m\n\u001b[1;32m      8\u001b[0m \u001b[0;34m\u001b[0m\u001b[0m\n\u001b[0;32m----> 9\u001b[0;31m     \u001b[0marr\u001b[0m\u001b[0;34m,\u001b[0m \u001b[0mtempo\u001b[0m \u001b[0;34m=\u001b[0m \u001b[0mquicksort\u001b[0m\u001b[0;34m(\u001b[0m\u001b[0;36m0\u001b[0m\u001b[0;34m,\u001b[0m \u001b[0mlen\u001b[0m\u001b[0;34m(\u001b[0m\u001b[0marr\u001b[0m\u001b[0;34m)\u001b[0m\u001b[0;34m,\u001b[0m \u001b[0marr\u001b[0m\u001b[0;34m)\u001b[0m\u001b[0;34m\u001b[0m\u001b[0;34m\u001b[0m\u001b[0m\n\u001b[0m\u001b[1;32m     10\u001b[0m     \u001b[0mmelhor\u001b[0m\u001b[0;34m.\u001b[0m\u001b[0mappend\u001b[0m\u001b[0;34m(\u001b[0m\u001b[0mtempo\u001b[0m\u001b[0;34m)\u001b[0m\u001b[0;34m\u001b[0m\u001b[0;34m\u001b[0m\u001b[0m\n\u001b[1;32m     11\u001b[0m \u001b[0;34m\u001b[0m\u001b[0m\n",
            "\u001b[0;32m<ipython-input-275-6eeefd40ef34>\u001b[0m in \u001b[0;36mquicksort\u001b[0;34m(l, r, arr)\u001b[0m\n\u001b[1;32m      4\u001b[0m     \u001b[0;32mreturn\u001b[0m \u001b[0marr\u001b[0m\u001b[0;34m\u001b[0m\u001b[0;34m\u001b[0m\u001b[0m\n\u001b[1;32m      5\u001b[0m   \u001b[0;32mif\u001b[0m \u001b[0ml\u001b[0m \u001b[0;34m<\u001b[0m \u001b[0mr\u001b[0m\u001b[0;34m:\u001b[0m\u001b[0;34m\u001b[0m\u001b[0;34m\u001b[0m\u001b[0m\n\u001b[0;32m----> 6\u001b[0;31m     \u001b[0mpi\u001b[0m \u001b[0;34m=\u001b[0m \u001b[0mpartition\u001b[0m\u001b[0;34m(\u001b[0m\u001b[0ml\u001b[0m\u001b[0;34m,\u001b[0m \u001b[0mr\u001b[0m\u001b[0;34m,\u001b[0m \u001b[0marr\u001b[0m\u001b[0;34m)\u001b[0m\u001b[0;34m\u001b[0m\u001b[0;34m\u001b[0m\u001b[0m\n\u001b[0m\u001b[1;32m      7\u001b[0m     \u001b[0mquicksort\u001b[0m\u001b[0;34m(\u001b[0m\u001b[0ml\u001b[0m\u001b[0;34m,\u001b[0m \u001b[0mpi\u001b[0m\u001b[0;34m-\u001b[0m\u001b[0;36m1\u001b[0m\u001b[0;34m,\u001b[0m \u001b[0marr\u001b[0m\u001b[0;34m)\u001b[0m\u001b[0;34m\u001b[0m\u001b[0;34m\u001b[0m\u001b[0m\n\u001b[1;32m      8\u001b[0m     \u001b[0mquicksort\u001b[0m\u001b[0;34m(\u001b[0m\u001b[0mpi\u001b[0m\u001b[0;34m+\u001b[0m\u001b[0;36m1\u001b[0m\u001b[0;34m,\u001b[0m \u001b[0mr\u001b[0m\u001b[0;34m,\u001b[0m \u001b[0marr\u001b[0m\u001b[0;34m)\u001b[0m\u001b[0;34m\u001b[0m\u001b[0;34m\u001b[0m\u001b[0m\n",
            "\u001b[0;32m<ipython-input-274-02f3dad9e87a>\u001b[0m in \u001b[0;36mpartition\u001b[0;34m(l, r, arr)\u001b[0m\n\u001b[1;32m      1\u001b[0m \u001b[0;32mdef\u001b[0m \u001b[0mpartition\u001b[0m\u001b[0;34m(\u001b[0m\u001b[0ml\u001b[0m\u001b[0;34m,\u001b[0m \u001b[0mr\u001b[0m\u001b[0;34m,\u001b[0m \u001b[0marr\u001b[0m\u001b[0;34m)\u001b[0m\u001b[0;34m:\u001b[0m\u001b[0;34m\u001b[0m\u001b[0;34m\u001b[0m\u001b[0m\n\u001b[0;32m----> 2\u001b[0;31m   \u001b[0mpivo\u001b[0m\u001b[0;34m,\u001b[0m \u001b[0mptr\u001b[0m \u001b[0;34m=\u001b[0m \u001b[0marr\u001b[0m\u001b[0;34m[\u001b[0m\u001b[0mr\u001b[0m\u001b[0;34m]\u001b[0m\u001b[0;34m,\u001b[0m \u001b[0ml\u001b[0m\u001b[0;34m\u001b[0m\u001b[0;34m\u001b[0m\u001b[0m\n\u001b[0m\u001b[1;32m      3\u001b[0m   \u001b[0;32mfor\u001b[0m \u001b[0mi\u001b[0m \u001b[0;32min\u001b[0m \u001b[0mrange\u001b[0m\u001b[0;34m(\u001b[0m\u001b[0ml\u001b[0m\u001b[0;34m,\u001b[0m \u001b[0mr\u001b[0m\u001b[0;34m)\u001b[0m\u001b[0;34m:\u001b[0m\u001b[0;34m\u001b[0m\u001b[0;34m\u001b[0m\u001b[0m\n\u001b[1;32m      4\u001b[0m     \u001b[0;32mif\u001b[0m \u001b[0marr\u001b[0m\u001b[0;34m[\u001b[0m\u001b[0mi\u001b[0m\u001b[0;34m]\u001b[0m \u001b[0;34m<=\u001b[0m \u001b[0mpivo\u001b[0m\u001b[0;34m:\u001b[0m\u001b[0;34m\u001b[0m\u001b[0;34m\u001b[0m\u001b[0m\n\u001b[1;32m      5\u001b[0m       \u001b[0marr\u001b[0m\u001b[0;34m[\u001b[0m\u001b[0mi\u001b[0m\u001b[0;34m]\u001b[0m\u001b[0;34m,\u001b[0m \u001b[0marr\u001b[0m\u001b[0;34m[\u001b[0m\u001b[0mptr\u001b[0m\u001b[0;34m]\u001b[0m \u001b[0;34m=\u001b[0m \u001b[0marr\u001b[0m\u001b[0;34m[\u001b[0m\u001b[0mptr\u001b[0m\u001b[0;34m]\u001b[0m\u001b[0;34m,\u001b[0m \u001b[0marr\u001b[0m\u001b[0;34m[\u001b[0m\u001b[0mi\u001b[0m\u001b[0;34m]\u001b[0m\u001b[0;34m\u001b[0m\u001b[0;34m\u001b[0m\u001b[0m\n",
            "\u001b[0;31mIndexError\u001b[0m: index 5 is out of bounds for axis 0 with size 5"
          ]
        }
      ]
    },
    {
      "cell_type": "markdown",
      "source": [
        "# Questões"
      ],
      "metadata": {
        "id": "VomdAnCrzEv1"
      }
    },
    {
      "cell_type": "markdown",
      "source": [
        "\n",
        "\n",
        "1.   Dado um conjunto de arranjos ***A[5,...,1000, passo=5]***\n",
        "\n",
        "> a) Defina o melhor e pior caso para cada um dos algoritmos definidos acima, crie vetores ***A*** para estes casos e faça a comparação gráficamente também com casos aleatórios (plote um gráfico para cada algoritmo). Conte o numero de comparações realizadas para cada uma das execuções.\n",
        "\n",
        "> b) Repita o procedimento acima. Porém compare os algoritmos para pior e melhor caso e também casos aleatórios.\n",
        "\n",
        "> c) Qual é o comportamento assintótico para cada um dos algorítmos acima (melhor caso e pior caso, se puder, analise também em casos aleatórios)\n",
        "\n",
        "\n",
        "\n",
        "**Obs.:** para os algoritmos QuickSort e Merge Sort mostre apenas um melhor e um pior caso. faça a comparação com os demais métodos com o conjunto ***A*** apenas em casos aleatórios.\n",
        "\n",
        "\n",
        "\n"
      ],
      "metadata": {
        "id": "3QKV979kzItD"
      }
    },
    {
      "cell_type": "markdown",
      "source": [
        "2.   Desenvolda uma versão aleatorizada do QUICKSORT (pivo aleatório) e compare com a versão apresentada em sala de aula e definida acima.\n",
        "\n"
      ],
      "metadata": {
        "id": "9hhEkQam21NC"
      }
    },
    {
      "cell_type": "code",
      "source": [
        "#Questão 1.a)\n",
        "\n"
      ],
      "metadata": {
        "id": "DoI52L7n3yE9"
      },
      "execution_count": 3,
      "outputs": []
    },
    {
      "cell_type": "code",
      "source": [
        "print(\"Boa sorte!!!\")"
      ],
      "metadata": {
        "colab": {
          "base_uri": "https://localhost:8080/"
        },
        "id": "nBfs279_1Vko",
        "outputId": "6a6e86cf-5b1e-4176-a1a5-93bfb4ded319"
      },
      "execution_count": null,
      "outputs": [
        {
          "output_type": "stream",
          "name": "stdout",
          "text": [
            "Boa sorte!!!\n"
          ]
        }
      ]
    }
  ]
}