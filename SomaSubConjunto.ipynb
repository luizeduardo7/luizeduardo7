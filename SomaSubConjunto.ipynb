{
  "nbformat": 4,
  "nbformat_minor": 0,
  "metadata": {
    "colab": {
      "provenance": [],
      "collapsed_sections": [],
      "include_colab_link": true
    },
    "kernelspec": {
      "name": "python3",
      "display_name": "Python 3"
    },
    "language_info": {
      "name": "python"
    }
  },
  "cells": [
    {
      "cell_type": "markdown",
      "metadata": {
        "id": "view-in-github",
        "colab_type": "text"
      },
      "source": [
        "<a href=\"https://colab.research.google.com/github/luizeduardo7/luizeduardo7/blob/main/SomaSubConjunto.ipynb\" target=\"_parent\"><img src=\"https://colab.research.google.com/assets/colab-badge.svg\" alt=\"Open In Colab\"/></a>"
      ]
    },
    {
      "cell_type": "code",
      "execution_count": null,
      "metadata": {
        "id": "39OxWcMO9OVg"
      },
      "outputs": [],
      "source": [
        "!pip install subsetsum\n",
        "import subsetsum\n",
        "import time\n",
        "import numpy as np\n",
        "import matplotlib.pyplot as plt"
      ]
    },
    {
      "cell_type": "code",
      "source": [
        "def gera_arr(a, n_elem):\n",
        "  a += list(np.random.randint(-1000, 1000, n_elem))\n",
        "  return a"
      ],
      "metadata": {
        "id": "9TDNb_RmIEe7"
      },
      "execution_count": null,
      "outputs": []
    },
    {
      "cell_type": "code",
      "source": [
        "def execute(nums, target):\n",
        "  time_ini = time.time()\n",
        "  for solution in subsetsum.solutions(nums, target):\n",
        "      subset = [nums[i] for i in solution]\n",
        "      sum_value = sum(subset)\n",
        "      #print(f\"{subset} se somados, reulta em: {sum_value}\")\n",
        "  time_fin = time.time()\n",
        "\n",
        "  t = time_fin - time_ini\n",
        "  return t"
      ],
      "metadata": {
        "id": "S1TyiJ4X9Uwf"
      },
      "execution_count": null,
      "outputs": []
    },
    {
      "cell_type": "code",
      "source": [
        "nums = []\n",
        "nums = gera_arr(nums, 4)\n",
        "times, elem = [], []\n",
        "for i in range(5, 36):\n",
        "  target = 0\n",
        "  nums = gera_arr(nums, 1) # Incrementa 1 elemento ao array já existente\n",
        "  elem.append(i) # Quantidade de elementos\n",
        "  times.append(execute(nums, target))\n",
        "\n",
        "  has_solution = subsetsum.has_solution(nums, target)\n",
        "  print(f\"O conjunto: {nums} onde a soma é: {target} tem solução? {has_solution}\")"
      ],
      "metadata": {
        "id": "AjR0e2RXXlcR",
        "colab": {
          "base_uri": "https://localhost:8080/"
        },
        "outputId": "e7c98361-222a-4204-83f0-89b3dfa6bda0"
      },
      "execution_count": null,
      "outputs": [
        {
          "output_type": "stream",
          "name": "stdout",
          "text": [
            "O conjunto: [698, -323, 267, 220, -62] onde a soma é: 0 tem solução? False\n",
            "O conjunto: [698, -323, 267, 220, -62, -927] onde a soma é: 0 tem solução? False\n",
            "O conjunto: [698, -323, 267, 220, -62, -927, 421] onde a soma é: 0 tem solução? False\n",
            "O conjunto: [698, -323, 267, 220, -62, -927, 421, -237] onde a soma é: 0 tem solução? False\n",
            "O conjunto: [698, -323, 267, 220, -62, -927, 421, -237, 513] onde a soma é: 0 tem solução? False\n",
            "O conjunto: [698, -323, 267, 220, -62, -927, 421, -237, 513, -639] onde a soma é: 0 tem solução? False\n",
            "O conjunto: [698, -323, 267, 220, -62, -927, 421, -237, 513, -639, -928] onde a soma é: 0 tem solução? False\n",
            "O conjunto: [698, -323, 267, 220, -62, -927, 421, -237, 513, -639, -928, 164] onde a soma é: 0 tem solução? True\n",
            "O conjunto: [698, -323, 267, 220, -62, -927, 421, -237, 513, -639, -928, 164, 321] onde a soma é: 0 tem solução? True\n",
            "O conjunto: [698, -323, 267, 220, -62, -927, 421, -237, 513, -639, -928, 164, 321, 152] onde a soma é: 0 tem solução? True\n",
            "O conjunto: [698, -323, 267, 220, -62, -927, 421, -237, 513, -639, -928, 164, 321, 152, 88] onde a soma é: 0 tem solução? True\n",
            "O conjunto: [698, -323, 267, 220, -62, -927, 421, -237, 513, -639, -928, 164, 321, 152, 88, 111] onde a soma é: 0 tem solução? True\n",
            "O conjunto: [698, -323, 267, 220, -62, -927, 421, -237, 513, -639, -928, 164, 321, 152, 88, 111, 125] onde a soma é: 0 tem solução? True\n",
            "O conjunto: [698, -323, 267, 220, -62, -927, 421, -237, 513, -639, -928, 164, 321, 152, 88, 111, 125, 478] onde a soma é: 0 tem solução? True\n",
            "O conjunto: [698, -323, 267, 220, -62, -927, 421, -237, 513, -639, -928, 164, 321, 152, 88, 111, 125, 478, -221] onde a soma é: 0 tem solução? True\n",
            "O conjunto: [698, -323, 267, 220, -62, -927, 421, -237, 513, -639, -928, 164, 321, 152, 88, 111, 125, 478, -221, -558] onde a soma é: 0 tem solução? True\n",
            "O conjunto: [698, -323, 267, 220, -62, -927, 421, -237, 513, -639, -928, 164, 321, 152, 88, 111, 125, 478, -221, -558, -571] onde a soma é: 0 tem solução? True\n",
            "O conjunto: [698, -323, 267, 220, -62, -927, 421, -237, 513, -639, -928, 164, 321, 152, 88, 111, 125, 478, -221, -558, -571, -825] onde a soma é: 0 tem solução? True\n",
            "O conjunto: [698, -323, 267, 220, -62, -927, 421, -237, 513, -639, -928, 164, 321, 152, 88, 111, 125, 478, -221, -558, -571, -825, -470] onde a soma é: 0 tem solução? True\n",
            "O conjunto: [698, -323, 267, 220, -62, -927, 421, -237, 513, -639, -928, 164, 321, 152, 88, 111, 125, 478, -221, -558, -571, -825, -470, 68] onde a soma é: 0 tem solução? True\n",
            "O conjunto: [698, -323, 267, 220, -62, -927, 421, -237, 513, -639, -928, 164, 321, 152, 88, 111, 125, 478, -221, -558, -571, -825, -470, 68, -526] onde a soma é: 0 tem solução? True\n",
            "O conjunto: [698, -323, 267, 220, -62, -927, 421, -237, 513, -639, -928, 164, 321, 152, 88, 111, 125, 478, -221, -558, -571, -825, -470, 68, -526, 792] onde a soma é: 0 tem solução? True\n",
            "O conjunto: [698, -323, 267, 220, -62, -927, 421, -237, 513, -639, -928, 164, 321, 152, 88, 111, 125, 478, -221, -558, -571, -825, -470, 68, -526, 792, -178] onde a soma é: 0 tem solução? True\n",
            "O conjunto: [698, -323, 267, 220, -62, -927, 421, -237, 513, -639, -928, 164, 321, 152, 88, 111, 125, 478, -221, -558, -571, -825, -470, 68, -526, 792, -178, 888] onde a soma é: 0 tem solução? True\n",
            "O conjunto: [698, -323, 267, 220, -62, -927, 421, -237, 513, -639, -928, 164, 321, 152, 88, 111, 125, 478, -221, -558, -571, -825, -470, 68, -526, 792, -178, 888, -256] onde a soma é: 0 tem solução? True\n",
            "O conjunto: [698, -323, 267, 220, -62, -927, 421, -237, 513, -639, -928, 164, 321, 152, 88, 111, 125, 478, -221, -558, -571, -825, -470, 68, -526, 792, -178, 888, -256, -728] onde a soma é: 0 tem solução? True\n",
            "O conjunto: [698, -323, 267, 220, -62, -927, 421, -237, 513, -639, -928, 164, 321, 152, 88, 111, 125, 478, -221, -558, -571, -825, -470, 68, -526, 792, -178, 888, -256, -728, -802] onde a soma é: 0 tem solução? True\n",
            "O conjunto: [698, -323, 267, 220, -62, -927, 421, -237, 513, -639, -928, 164, 321, 152, 88, 111, 125, 478, -221, -558, -571, -825, -470, 68, -526, 792, -178, 888, -256, -728, -802, -443] onde a soma é: 0 tem solução? True\n",
            "O conjunto: [698, -323, 267, 220, -62, -927, 421, -237, 513, -639, -928, 164, 321, 152, 88, 111, 125, 478, -221, -558, -571, -825, -470, 68, -526, 792, -178, 888, -256, -728, -802, -443, -634] onde a soma é: 0 tem solução? True\n",
            "O conjunto: [698, -323, 267, 220, -62, -927, 421, -237, 513, -639, -928, 164, 321, 152, 88, 111, 125, 478, -221, -558, -571, -825, -470, 68, -526, 792, -178, 888, -256, -728, -802, -443, -634, 601] onde a soma é: 0 tem solução? True\n",
            "O conjunto: [698, -323, 267, 220, -62, -927, 421, -237, 513, -639, -928, 164, 321, 152, 88, 111, 125, 478, -221, -558, -571, -825, -470, 68, -526, 792, -178, 888, -256, -728, -802, -443, -634, 601, 311] onde a soma é: 0 tem solução? True\n"
          ]
        }
      ]
    },
    {
      "cell_type": "code",
      "source": [
        "plt.plot(elem, times)\n",
        "plt.xlabel('Quatidade de elementos')\n",
        "plt.ylabel('Tempo')\n",
        "plt.title('Husband')"
      ],
      "metadata": {
        "colab": {
          "base_uri": "https://localhost:8080/",
          "height": 312
        },
        "id": "8IL1RHQuZGow",
        "outputId": "18ce68da-8383-4f8a-c493-2dc696db2d5d"
      },
      "execution_count": null,
      "outputs": [
        {
          "output_type": "execute_result",
          "data": {
            "text/plain": [
              "Text(0.5, 1.0, 'Husband')"
            ]
          },
          "metadata": {},
          "execution_count": 96
        },
        {
          "output_type": "display_data",
          "data": {
            "text/plain": [
              "<Figure size 432x288 with 1 Axes>"
            ],
            "image/png": "[encoded data removed]"
          },
          "metadata": {
            "needs_background": "light"
          }
        }
      ]
    }
  ]
}